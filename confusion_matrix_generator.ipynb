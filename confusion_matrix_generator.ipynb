{
 "cells": [
  {
   "cell_type": "code",
   "execution_count": null,
   "metadata": {},
   "outputs": [],
   "source": [
    "import os\n",
    "\n",
    "import numpy as np\n",
    "import matplotlib.image as mpimg\n",
    "import matplotlib.pyplot as plt\n",
    "import tensorflow as tf\n",
    "from tensorflow import keras\n",
    "\n",
    "model_path = ''     # path to model\n",
    "test_folder = ''    # specify you folder contain test image\n",
    "                    # test image must name \"class_name-number.extension\", for example, a-1.jpg\n",
    "class_labels = []   # list of class\n",
    "image_height = 100  # image_height\n",
    "image_width = 100   # image_width\n",
    "\n",
    "print(tf.version.VERSION)"
   ]
  },
  {
   "cell_type": "code",
   "execution_count": null,
   "metadata": {},
   "outputs": [],
   "source": [
    "def print_confusion_matrix(result):\n",
    "    for i in range(len(class_labels)):\n",
    "        for j in range(len(class_labels)):\n",
    "            if (result[i][j] == 0): continue\n",
    "            print('Actual [{}], Predict [{}]: {}.'.format(class_labels[i], class_labels[j], result[i][j]))"
   ]
  },
  {
   "cell_type": "code",
   "execution_count": null,
   "metadata": {},
   "outputs": [],
   "source": [
    "import os\n",
    "    \n",
    "def generate_confusion_matrix(model):\n",
    "    result = list()\n",
    "\n",
    "    for i in range(len(class_labels)):\n",
    "        result.append(list())\n",
    "        for j in range(len(class_labels)):\n",
    "            result[i].append(0)\n",
    "\n",
    "    for filename in os.listdir(startPath):\n",
    "        if filename.endswith(\".jpg\") or filename.endswith(\".png\"): \n",
    "            img = os.path.join(test_folder, filename)\n",
    "\n",
    "            img = tf.keras.preprocessing.image.load_img(\n",
    "              img, target_size=(image_width, image_height)\n",
    "            )\n",
    "            img_array = tf.keras.preprocessing.image.img_to_array(img)\n",
    "            img_array = tf.expand_dims(img_array, 0)\n",
    "\n",
    "            predictions = model.predict(img_array)\n",
    "            score = tf.nn.softmax(predictions[0])\n",
    "\n",
    "            actual_class = filename.split('-')[0]\n",
    "            predicted_class = class_labels[np.argmax(score)]\n",
    "\n",
    "            result[class_labels.index(actual_class)][class_labels.index(predicted_class)] += 1\n",
    "\n",
    "        else:\n",
    "            continue\n",
    "\n",
    "    print('done')\n",
    "    return result"
   ]
  },
  {
   "cell_type": "markdown",
   "metadata": {},
   "source": [
    "# Generate result"
   ]
  },
  {
   "cell_type": "code",
   "execution_count": null,
   "metadata": {},
   "outputs": [],
   "source": [
    "model = tf.keras.models.load_model(model_path)\n",
    "result = generate_confusion_matrix(model)\n",
    "print_confusion_matrix(result)"
   ]
  }
 ],
 "metadata": {
  "environment": {
   "name": "tf2-2-2-gpu.2-2.m50",
   "type": "gcloud",
   "uri": "gcr.io/deeplearning-platform-release/tf2-2-2-gpu.2-2:m50"
  },
  "kernelspec": {
   "display_name": "Python 3",
   "language": "python",
   "name": "python3"
  },
  "language_info": {
   "codemirror_mode": {
    "name": "ipython",
    "version": 3
   },
   "file_extension": ".py",
   "mimetype": "text/x-python",
   "name": "python",
   "nbconvert_exporter": "python",
   "pygments_lexer": "ipython3",
   "version": "3.7.6"
  }
 },
 "nbformat": 4,
 "nbformat_minor": 4
}
